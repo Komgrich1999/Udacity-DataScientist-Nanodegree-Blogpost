{
  "nbformat": 4,
  "nbformat_minor": 0,
  "metadata": {
    "colab": {
      "name": "Writing-BlogPost_udacity_DSnanodegree.ipynb",
      "provenance": [],
      "collapsed_sections": [
        "BXSFszqwHK5h",
        "DvUrJQnVeCXo",
        "emdw2KQ2nqXr"
      ],
      "toc_visible": true
    },
    "kernelspec": {
      "display_name": "Python 3",
      "name": "python3"
    },
    "language_info": {
      "name": "python"
    }
  },
  "cells": [
    {
      "cell_type": "markdown",
      "metadata": {
        "id": "BXSFszqwHK5h"
      },
      "source": [
        "# Import nescessary tools or library "
      ]
    },
    {
      "cell_type": "markdown",
      "metadata": {
        "id": "ssyuDf0BJYum"
      },
      "source": [
        "The First thing we need is the tools or libraries for this work \n",
        "\n",
        "which we will import it in the cell down below\n"
      ]
    },
    {
      "cell_type": "code",
      "metadata": {
        "colab": {
          "base_uri": "https://localhost:8080/"
        },
        "id": "lSWX26TMnr3v",
        "outputId": "74a9e641-d1ef-4528-e05e-c0b688953f6b"
      },
      "source": [
        "pip install matplotlib==3.1.3"
      ],
      "execution_count": 1,
      "outputs": [
        {
          "output_type": "stream",
          "name": "stdout",
          "text": [
            "Requirement already satisfied: matplotlib==3.1.3 in /usr/local/lib/python3.7/dist-packages (3.1.3)\n",
            "Requirement already satisfied: cycler>=0.10 in /usr/local/lib/python3.7/dist-packages (from matplotlib==3.1.3) (0.10.0)\n",
            "Requirement already satisfied: numpy>=1.11 in /usr/local/lib/python3.7/dist-packages (from matplotlib==3.1.3) (1.19.5)\n",
            "Requirement already satisfied: python-dateutil>=2.1 in /usr/local/lib/python3.7/dist-packages (from matplotlib==3.1.3) (2.8.2)\n",
            "Requirement already satisfied: kiwisolver>=1.0.1 in /usr/local/lib/python3.7/dist-packages (from matplotlib==3.1.3) (1.3.2)\n",
            "Requirement already satisfied: pyparsing!=2.0.4,!=2.1.2,!=2.1.6,>=2.0.1 in /usr/local/lib/python3.7/dist-packages (from matplotlib==3.1.3) (2.4.7)\n",
            "Requirement already satisfied: six in /usr/local/lib/python3.7/dist-packages (from cycler>=0.10->matplotlib==3.1.3) (1.15.0)\n"
          ]
        }
      ]
    },
    {
      "cell_type": "code",
      "metadata": {
        "id": "xxaA5HZeE7Ht"
      },
      "source": [
        "#These libraries imported for do the reading data and analysis process\n",
        "import pandas as pd\n",
        "import numpy as np\n",
        "\n",
        "#These libraries imported for do the visualization \n",
        "import matplotlib.pyplot as plt\n",
        "%matplotlib inline\n",
        "import seaborn as sns\n",
        "\n",
        "#These libraries imported for do the Machine Learning process\n",
        "from sklearn.metrics import r2_score, mean_squared_error\n",
        "from sklearn.model_selection import train_test_split\n",
        "from sklearn.linear_model import LinearRegression"
      ],
      "execution_count": 2,
      "outputs": []
    },
    {
      "cell_type": "markdown",
      "metadata": {
        "id": "DvUrJQnVeCXo"
      },
      "source": [
        "# Import Dataset"
      ]
    },
    {
      "cell_type": "markdown",
      "metadata": {
        "id": "3sWf-7PReGU8"
      },
      "source": [
        "In this section, we'll import dataset into this notebook and check if the dataset in this workspace is existed."
      ]
    },
    {
      "cell_type": "code",
      "metadata": {
        "colab": {
          "base_uri": "https://localhost:8080/",
          "height": 394
        },
        "id": "W74Uwz55eFNk",
        "outputId": "b448256f-e67c-44c2-996d-6d7fc3f38503"
      },
      "source": [
        "df = pd.read_csv(\"/content/drive/MyDrive/world-happiness-report-2021.csv\")\n",
        "df.head(5)"
      ],
      "execution_count": 3,
      "outputs": [
        {
          "output_type": "execute_result",
          "data": {
            "text/html": [
              "<div>\n",
              "<style scoped>\n",
              "    .dataframe tbody tr th:only-of-type {\n",
              "        vertical-align: middle;\n",
              "    }\n",
              "\n",
              "    .dataframe tbody tr th {\n",
              "        vertical-align: top;\n",
              "    }\n",
              "\n",
              "    .dataframe thead th {\n",
              "        text-align: right;\n",
              "    }\n",
              "</style>\n",
              "<table border=\"1\" class=\"dataframe\">\n",
              "  <thead>\n",
              "    <tr style=\"text-align: right;\">\n",
              "      <th></th>\n",
              "      <th>Country name</th>\n",
              "      <th>Regional indicator</th>\n",
              "      <th>Ladder score</th>\n",
              "      <th>Standard error of ladder score</th>\n",
              "      <th>upperwhisker</th>\n",
              "      <th>lowerwhisker</th>\n",
              "      <th>Logged GDP per capita</th>\n",
              "      <th>Social support</th>\n",
              "      <th>Healthy life expectancy</th>\n",
              "      <th>Freedom to make life choices</th>\n",
              "      <th>Generosity</th>\n",
              "      <th>Perceptions of corruption</th>\n",
              "      <th>Ladder score in Dystopia</th>\n",
              "      <th>Explained by: Log GDP per capita</th>\n",
              "      <th>Explained by: Social support</th>\n",
              "      <th>Explained by: Healthy life expectancy</th>\n",
              "      <th>Explained by: Freedom to make life choices</th>\n",
              "      <th>Explained by: Generosity</th>\n",
              "      <th>Explained by: Perceptions of corruption</th>\n",
              "      <th>Dystopia + residual</th>\n",
              "    </tr>\n",
              "  </thead>\n",
              "  <tbody>\n",
              "    <tr>\n",
              "      <th>0</th>\n",
              "      <td>Finland</td>\n",
              "      <td>Western Europe</td>\n",
              "      <td>7.842</td>\n",
              "      <td>0.032</td>\n",
              "      <td>7.904</td>\n",
              "      <td>7.780</td>\n",
              "      <td>10.775</td>\n",
              "      <td>0.954</td>\n",
              "      <td>72.0</td>\n",
              "      <td>0.949</td>\n",
              "      <td>-0.098</td>\n",
              "      <td>0.186</td>\n",
              "      <td>2.43</td>\n",
              "      <td>1.446</td>\n",
              "      <td>1.106</td>\n",
              "      <td>0.741</td>\n",
              "      <td>0.691</td>\n",
              "      <td>0.124</td>\n",
              "      <td>0.481</td>\n",
              "      <td>3.253</td>\n",
              "    </tr>\n",
              "    <tr>\n",
              "      <th>1</th>\n",
              "      <td>Denmark</td>\n",
              "      <td>Western Europe</td>\n",
              "      <td>7.620</td>\n",
              "      <td>0.035</td>\n",
              "      <td>7.687</td>\n",
              "      <td>7.552</td>\n",
              "      <td>10.933</td>\n",
              "      <td>0.954</td>\n",
              "      <td>72.7</td>\n",
              "      <td>0.946</td>\n",
              "      <td>0.030</td>\n",
              "      <td>0.179</td>\n",
              "      <td>2.43</td>\n",
              "      <td>1.502</td>\n",
              "      <td>1.108</td>\n",
              "      <td>0.763</td>\n",
              "      <td>0.686</td>\n",
              "      <td>0.208</td>\n",
              "      <td>0.485</td>\n",
              "      <td>2.868</td>\n",
              "    </tr>\n",
              "    <tr>\n",
              "      <th>2</th>\n",
              "      <td>Switzerland</td>\n",
              "      <td>Western Europe</td>\n",
              "      <td>7.571</td>\n",
              "      <td>0.036</td>\n",
              "      <td>7.643</td>\n",
              "      <td>7.500</td>\n",
              "      <td>11.117</td>\n",
              "      <td>0.942</td>\n",
              "      <td>74.4</td>\n",
              "      <td>0.919</td>\n",
              "      <td>0.025</td>\n",
              "      <td>0.292</td>\n",
              "      <td>2.43</td>\n",
              "      <td>1.566</td>\n",
              "      <td>1.079</td>\n",
              "      <td>0.816</td>\n",
              "      <td>0.653</td>\n",
              "      <td>0.204</td>\n",
              "      <td>0.413</td>\n",
              "      <td>2.839</td>\n",
              "    </tr>\n",
              "    <tr>\n",
              "      <th>3</th>\n",
              "      <td>Iceland</td>\n",
              "      <td>Western Europe</td>\n",
              "      <td>7.554</td>\n",
              "      <td>0.059</td>\n",
              "      <td>7.670</td>\n",
              "      <td>7.438</td>\n",
              "      <td>10.878</td>\n",
              "      <td>0.983</td>\n",
              "      <td>73.0</td>\n",
              "      <td>0.955</td>\n",
              "      <td>0.160</td>\n",
              "      <td>0.673</td>\n",
              "      <td>2.43</td>\n",
              "      <td>1.482</td>\n",
              "      <td>1.172</td>\n",
              "      <td>0.772</td>\n",
              "      <td>0.698</td>\n",
              "      <td>0.293</td>\n",
              "      <td>0.170</td>\n",
              "      <td>2.967</td>\n",
              "    </tr>\n",
              "    <tr>\n",
              "      <th>4</th>\n",
              "      <td>Netherlands</td>\n",
              "      <td>Western Europe</td>\n",
              "      <td>7.464</td>\n",
              "      <td>0.027</td>\n",
              "      <td>7.518</td>\n",
              "      <td>7.410</td>\n",
              "      <td>10.932</td>\n",
              "      <td>0.942</td>\n",
              "      <td>72.4</td>\n",
              "      <td>0.913</td>\n",
              "      <td>0.175</td>\n",
              "      <td>0.338</td>\n",
              "      <td>2.43</td>\n",
              "      <td>1.501</td>\n",
              "      <td>1.079</td>\n",
              "      <td>0.753</td>\n",
              "      <td>0.647</td>\n",
              "      <td>0.302</td>\n",
              "      <td>0.384</td>\n",
              "      <td>2.798</td>\n",
              "    </tr>\n",
              "  </tbody>\n",
              "</table>\n",
              "</div>"
            ],
            "text/plain": [
              "  Country name  ... Dystopia + residual\n",
              "0      Finland  ...               3.253\n",
              "1      Denmark  ...               2.868\n",
              "2  Switzerland  ...               2.839\n",
              "3      Iceland  ...               2.967\n",
              "4  Netherlands  ...               2.798\n",
              "\n",
              "[5 rows x 20 columns]"
            ]
          },
          "metadata": {},
          "execution_count": 3
        }
      ]
    },
    {
      "cell_type": "markdown",
      "metadata": {
        "id": "emdw2KQ2nqXr"
      },
      "source": [
        "# Check missing and other things"
      ]
    },
    {
      "cell_type": "markdown",
      "metadata": {
        "id": "oveqgO1jn79f"
      },
      "source": [
        "In this section, we'll check if there's something wrong in the dataset"
      ]
    },
    {
      "cell_type": "code",
      "metadata": {
        "colab": {
          "base_uri": "https://localhost:8080/"
        },
        "id": "HonrrCsyedkw",
        "outputId": "b54d6f6f-946f-46d7-aae3-62f5ed2ee227"
      },
      "source": [
        "df.columns"
      ],
      "execution_count": 4,
      "outputs": [
        {
          "output_type": "execute_result",
          "data": {
            "text/plain": [
              "Index(['Country name', 'Regional indicator', 'Ladder score',\n",
              "       'Standard error of ladder score', 'upperwhisker', 'lowerwhisker',\n",
              "       'Logged GDP per capita', 'Social support', 'Healthy life expectancy',\n",
              "       'Freedom to make life choices', 'Generosity',\n",
              "       'Perceptions of corruption', 'Ladder score in Dystopia',\n",
              "       'Explained by: Log GDP per capita', 'Explained by: Social support',\n",
              "       'Explained by: Healthy life expectancy',\n",
              "       'Explained by: Freedom to make life choices',\n",
              "       'Explained by: Generosity', 'Explained by: Perceptions of corruption',\n",
              "       'Dystopia + residual'],\n",
              "      dtype='object')"
            ]
          },
          "metadata": {},
          "execution_count": 4
        }
      ]
    },
    {
      "cell_type": "code",
      "metadata": {
        "colab": {
          "base_uri": "https://localhost:8080/"
        },
        "id": "1wrrLIQEoGPS",
        "outputId": "83634c1c-cf54-41db-a2d6-d18429e27ed2"
      },
      "source": [
        "df.isna().sum()"
      ],
      "execution_count": 5,
      "outputs": [
        {
          "output_type": "execute_result",
          "data": {
            "text/plain": [
              "Country name                                  0\n",
              "Regional indicator                            0\n",
              "Ladder score                                  0\n",
              "Standard error of ladder score                0\n",
              "upperwhisker                                  0\n",
              "lowerwhisker                                  0\n",
              "Logged GDP per capita                         0\n",
              "Social support                                0\n",
              "Healthy life expectancy                       0\n",
              "Freedom to make life choices                  0\n",
              "Generosity                                    0\n",
              "Perceptions of corruption                     0\n",
              "Ladder score in Dystopia                      0\n",
              "Explained by: Log GDP per capita              0\n",
              "Explained by: Social support                  0\n",
              "Explained by: Healthy life expectancy         0\n",
              "Explained by: Freedom to make life choices    0\n",
              "Explained by: Generosity                      0\n",
              "Explained by: Perceptions of corruption       0\n",
              "Dystopia + residual                           0\n",
              "dtype: int64"
            ]
          },
          "metadata": {},
          "execution_count": 5
        }
      ]
    },
    {
      "cell_type": "code",
      "metadata": {
        "colab": {
          "base_uri": "https://localhost:8080/"
        },
        "id": "ddBpJU7goOyi",
        "outputId": "6e8a2195-f63a-4ae3-dbc7-32720054700b"
      },
      "source": [
        "df.dtypes"
      ],
      "execution_count": 6,
      "outputs": [
        {
          "output_type": "execute_result",
          "data": {
            "text/plain": [
              "Country name                                   object\n",
              "Regional indicator                             object\n",
              "Ladder score                                  float64\n",
              "Standard error of ladder score                float64\n",
              "upperwhisker                                  float64\n",
              "lowerwhisker                                  float64\n",
              "Logged GDP per capita                         float64\n",
              "Social support                                float64\n",
              "Healthy life expectancy                       float64\n",
              "Freedom to make life choices                  float64\n",
              "Generosity                                    float64\n",
              "Perceptions of corruption                     float64\n",
              "Ladder score in Dystopia                      float64\n",
              "Explained by: Log GDP per capita              float64\n",
              "Explained by: Social support                  float64\n",
              "Explained by: Healthy life expectancy         float64\n",
              "Explained by: Freedom to make life choices    float64\n",
              "Explained by: Generosity                      float64\n",
              "Explained by: Perceptions of corruption       float64\n",
              "Dystopia + residual                           float64\n",
              "dtype: object"
            ]
          },
          "metadata": {},
          "execution_count": 6
        }
      ]
    },
    {
      "cell_type": "code",
      "metadata": {
        "colab": {
          "base_uri": "https://localhost:8080/"
        },
        "id": "7tGnXnJk4N0l",
        "outputId": "dff77061-349c-4be5-e542-8e771d3f033d"
      },
      "source": [
        "df.shape"
      ],
      "execution_count": 7,
      "outputs": [
        {
          "output_type": "execute_result",
          "data": {
            "text/plain": [
              "(149, 20)"
            ]
          },
          "metadata": {},
          "execution_count": 7
        }
      ]
    },
    {
      "cell_type": "markdown",
      "metadata": {
        "id": "y9b9chP_4XsJ"
      },
      "source": [
        "**This dataset has 149 rows and 20 columns**"
      ]
    },
    {
      "cell_type": "markdown",
      "metadata": {
        "id": "KNHuDm0L6x3e"
      },
      "source": [
        "In the cell down below, we'll build another column named 'ID' for ease of visualization later"
      ]
    },
    {
      "cell_type": "code",
      "metadata": {
        "colab": {
          "base_uri": "https://localhost:8080/",
          "height": 142
        },
        "id": "Yv4FFqa34vHK",
        "outputId": "2b9850dc-c454-414a-b548-b2b213ccef81"
      },
      "source": [
        "id_list = [index_ for index_ in range(0,149)]\n",
        "\n",
        "id_df = pd.DataFrame({'ID' : id_list})\n",
        "id_df.head(3)"
      ],
      "execution_count": 8,
      "outputs": [
        {
          "output_type": "execute_result",
          "data": {
            "text/html": [
              "<div>\n",
              "<style scoped>\n",
              "    .dataframe tbody tr th:only-of-type {\n",
              "        vertical-align: middle;\n",
              "    }\n",
              "\n",
              "    .dataframe tbody tr th {\n",
              "        vertical-align: top;\n",
              "    }\n",
              "\n",
              "    .dataframe thead th {\n",
              "        text-align: right;\n",
              "    }\n",
              "</style>\n",
              "<table border=\"1\" class=\"dataframe\">\n",
              "  <thead>\n",
              "    <tr style=\"text-align: right;\">\n",
              "      <th></th>\n",
              "      <th>ID</th>\n",
              "    </tr>\n",
              "  </thead>\n",
              "  <tbody>\n",
              "    <tr>\n",
              "      <th>0</th>\n",
              "      <td>0</td>\n",
              "    </tr>\n",
              "    <tr>\n",
              "      <th>1</th>\n",
              "      <td>1</td>\n",
              "    </tr>\n",
              "    <tr>\n",
              "      <th>2</th>\n",
              "      <td>2</td>\n",
              "    </tr>\n",
              "  </tbody>\n",
              "</table>\n",
              "</div>"
            ],
            "text/plain": [
              "   ID\n",
              "0   0\n",
              "1   1\n",
              "2   2"
            ]
          },
          "metadata": {},
          "execution_count": 8
        }
      ]
    },
    {
      "cell_type": "code",
      "metadata": {
        "id": "-urxSsvRPDn3"
      },
      "source": [
        "df['ID'] = id_df"
      ],
      "execution_count": 9,
      "outputs": []
    },
    {
      "cell_type": "code",
      "metadata": {
        "colab": {
          "base_uri": "https://localhost:8080/",
          "height": 394
        },
        "id": "7aqbjIV_PfLT",
        "outputId": "857dce6f-539d-4e81-f4dc-a3310e7b4429"
      },
      "source": [
        "df.head(5)"
      ],
      "execution_count": 10,
      "outputs": [
        {
          "output_type": "execute_result",
          "data": {
            "text/html": [
              "<div>\n",
              "<style scoped>\n",
              "    .dataframe tbody tr th:only-of-type {\n",
              "        vertical-align: middle;\n",
              "    }\n",
              "\n",
              "    .dataframe tbody tr th {\n",
              "        vertical-align: top;\n",
              "    }\n",
              "\n",
              "    .dataframe thead th {\n",
              "        text-align: right;\n",
              "    }\n",
              "</style>\n",
              "<table border=\"1\" class=\"dataframe\">\n",
              "  <thead>\n",
              "    <tr style=\"text-align: right;\">\n",
              "      <th></th>\n",
              "      <th>Country name</th>\n",
              "      <th>Regional indicator</th>\n",
              "      <th>Ladder score</th>\n",
              "      <th>Standard error of ladder score</th>\n",
              "      <th>upperwhisker</th>\n",
              "      <th>lowerwhisker</th>\n",
              "      <th>Logged GDP per capita</th>\n",
              "      <th>Social support</th>\n",
              "      <th>Healthy life expectancy</th>\n",
              "      <th>Freedom to make life choices</th>\n",
              "      <th>Generosity</th>\n",
              "      <th>Perceptions of corruption</th>\n",
              "      <th>Ladder score in Dystopia</th>\n",
              "      <th>Explained by: Log GDP per capita</th>\n",
              "      <th>Explained by: Social support</th>\n",
              "      <th>Explained by: Healthy life expectancy</th>\n",
              "      <th>Explained by: Freedom to make life choices</th>\n",
              "      <th>Explained by: Generosity</th>\n",
              "      <th>Explained by: Perceptions of corruption</th>\n",
              "      <th>Dystopia + residual</th>\n",
              "      <th>ID</th>\n",
              "    </tr>\n",
              "  </thead>\n",
              "  <tbody>\n",
              "    <tr>\n",
              "      <th>0</th>\n",
              "      <td>Finland</td>\n",
              "      <td>Western Europe</td>\n",
              "      <td>7.842</td>\n",
              "      <td>0.032</td>\n",
              "      <td>7.904</td>\n",
              "      <td>7.780</td>\n",
              "      <td>10.775</td>\n",
              "      <td>0.954</td>\n",
              "      <td>72.0</td>\n",
              "      <td>0.949</td>\n",
              "      <td>-0.098</td>\n",
              "      <td>0.186</td>\n",
              "      <td>2.43</td>\n",
              "      <td>1.446</td>\n",
              "      <td>1.106</td>\n",
              "      <td>0.741</td>\n",
              "      <td>0.691</td>\n",
              "      <td>0.124</td>\n",
              "      <td>0.481</td>\n",
              "      <td>3.253</td>\n",
              "      <td>0</td>\n",
              "    </tr>\n",
              "    <tr>\n",
              "      <th>1</th>\n",
              "      <td>Denmark</td>\n",
              "      <td>Western Europe</td>\n",
              "      <td>7.620</td>\n",
              "      <td>0.035</td>\n",
              "      <td>7.687</td>\n",
              "      <td>7.552</td>\n",
              "      <td>10.933</td>\n",
              "      <td>0.954</td>\n",
              "      <td>72.7</td>\n",
              "      <td>0.946</td>\n",
              "      <td>0.030</td>\n",
              "      <td>0.179</td>\n",
              "      <td>2.43</td>\n",
              "      <td>1.502</td>\n",
              "      <td>1.108</td>\n",
              "      <td>0.763</td>\n",
              "      <td>0.686</td>\n",
              "      <td>0.208</td>\n",
              "      <td>0.485</td>\n",
              "      <td>2.868</td>\n",
              "      <td>1</td>\n",
              "    </tr>\n",
              "    <tr>\n",
              "      <th>2</th>\n",
              "      <td>Switzerland</td>\n",
              "      <td>Western Europe</td>\n",
              "      <td>7.571</td>\n",
              "      <td>0.036</td>\n",
              "      <td>7.643</td>\n",
              "      <td>7.500</td>\n",
              "      <td>11.117</td>\n",
              "      <td>0.942</td>\n",
              "      <td>74.4</td>\n",
              "      <td>0.919</td>\n",
              "      <td>0.025</td>\n",
              "      <td>0.292</td>\n",
              "      <td>2.43</td>\n",
              "      <td>1.566</td>\n",
              "      <td>1.079</td>\n",
              "      <td>0.816</td>\n",
              "      <td>0.653</td>\n",
              "      <td>0.204</td>\n",
              "      <td>0.413</td>\n",
              "      <td>2.839</td>\n",
              "      <td>2</td>\n",
              "    </tr>\n",
              "    <tr>\n",
              "      <th>3</th>\n",
              "      <td>Iceland</td>\n",
              "      <td>Western Europe</td>\n",
              "      <td>7.554</td>\n",
              "      <td>0.059</td>\n",
              "      <td>7.670</td>\n",
              "      <td>7.438</td>\n",
              "      <td>10.878</td>\n",
              "      <td>0.983</td>\n",
              "      <td>73.0</td>\n",
              "      <td>0.955</td>\n",
              "      <td>0.160</td>\n",
              "      <td>0.673</td>\n",
              "      <td>2.43</td>\n",
              "      <td>1.482</td>\n",
              "      <td>1.172</td>\n",
              "      <td>0.772</td>\n",
              "      <td>0.698</td>\n",
              "      <td>0.293</td>\n",
              "      <td>0.170</td>\n",
              "      <td>2.967</td>\n",
              "      <td>3</td>\n",
              "    </tr>\n",
              "    <tr>\n",
              "      <th>4</th>\n",
              "      <td>Netherlands</td>\n",
              "      <td>Western Europe</td>\n",
              "      <td>7.464</td>\n",
              "      <td>0.027</td>\n",
              "      <td>7.518</td>\n",
              "      <td>7.410</td>\n",
              "      <td>10.932</td>\n",
              "      <td>0.942</td>\n",
              "      <td>72.4</td>\n",
              "      <td>0.913</td>\n",
              "      <td>0.175</td>\n",
              "      <td>0.338</td>\n",
              "      <td>2.43</td>\n",
              "      <td>1.501</td>\n",
              "      <td>1.079</td>\n",
              "      <td>0.753</td>\n",
              "      <td>0.647</td>\n",
              "      <td>0.302</td>\n",
              "      <td>0.384</td>\n",
              "      <td>2.798</td>\n",
              "      <td>4</td>\n",
              "    </tr>\n",
              "  </tbody>\n",
              "</table>\n",
              "</div>"
            ],
            "text/plain": [
              "  Country name Regional indicator  ...  Dystopia + residual  ID\n",
              "0      Finland     Western Europe  ...                3.253   0\n",
              "1      Denmark     Western Europe  ...                2.868   1\n",
              "2  Switzerland     Western Europe  ...                2.839   2\n",
              "3      Iceland     Western Europe  ...                2.967   3\n",
              "4  Netherlands     Western Europe  ...                2.798   4\n",
              "\n",
              "[5 rows x 21 columns]"
            ]
          },
          "metadata": {},
          "execution_count": 10
        }
      ]
    },
    {
      "cell_type": "markdown",
      "metadata": {
        "id": "F1BlMWMQf5B3"
      },
      "source": [
        "# Set all question we would like to ask from the dataset"
      ]
    },
    {
      "cell_type": "markdown",
      "metadata": {
        "id": "4sxLoc02spWy"
      },
      "source": [
        "In this section, we will set all question we want to know from our dataset and investigate in the dataset to find the answer for each question."
      ]
    },
    {
      "cell_type": "markdown",
      "metadata": {
        "id": "XaVw7vUvgE9b"
      },
      "source": [
        "\n",
        "1.   Which are the best top 5 countries for having good Freedom to make life choices ? \n",
        "2.   Which are the best top 7 countries for having good Social support ?\n",
        "3.   What are the most influential features of the dataset to calculate the ladder score ?\n",
        "\n",
        "\n",
        "\n",
        "\n"
      ]
    },
    {
      "cell_type": "markdown",
      "metadata": {
        "id": "Y19VPh2Xv_GL"
      },
      "source": [
        "# Begin to solve all the question we just set.\n"
      ]
    },
    {
      "cell_type": "markdown",
      "metadata": {
        "id": "qxc1s-xPxFXP"
      },
      "source": [
        "# **1.Which are the best top 5 countries for having good Freedom to make life choices ?**\n"
      ]
    },
    {
      "cell_type": "code",
      "metadata": {
        "colab": {
          "base_uri": "https://localhost:8080/"
        },
        "id": "h1eWTiRZ30uu",
        "outputId": "680a75ec-fa01-48aa-92c4-beb897610e58"
      },
      "source": [
        "#def make_an_ID(df) :\n",
        "df.iloc[0]"
      ],
      "execution_count": 11,
      "outputs": [
        {
          "output_type": "execute_result",
          "data": {
            "text/plain": [
              "Country name                                         Finland\n",
              "Regional indicator                            Western Europe\n",
              "Ladder score                                           7.842\n",
              "Standard error of ladder score                         0.032\n",
              "upperwhisker                                           7.904\n",
              "lowerwhisker                                            7.78\n",
              "Logged GDP per capita                                 10.775\n",
              "Social support                                         0.954\n",
              "Healthy life expectancy                                   72\n",
              "Freedom to make life choices                           0.949\n",
              "Generosity                                            -0.098\n",
              "Perceptions of corruption                              0.186\n",
              "Ladder score in Dystopia                                2.43\n",
              "Explained by: Log GDP per capita                       1.446\n",
              "Explained by: Social support                           1.106\n",
              "Explained by: Healthy life expectancy                  0.741\n",
              "Explained by: Freedom to make life choices             0.691\n",
              "Explained by: Generosity                               0.124\n",
              "Explained by: Perceptions of corruption                0.481\n",
              "Dystopia + residual                                    3.253\n",
              "ID                                                         0\n",
              "Name: 0, dtype: object"
            ]
          },
          "metadata": {},
          "execution_count": 11
        }
      ]
    },
    {
      "cell_type": "code",
      "metadata": {
        "colab": {
          "base_uri": "https://localhost:8080/",
          "height": 204
        },
        "id": "Zs54TsNCVQT9",
        "outputId": "39737835-cfed-407e-968e-42e68532a85a"
      },
      "source": [
        "df_country = df['Country name']\n",
        "freedom_lifechoice_df = df['Freedom to make life choices']\n",
        "\n",
        "df_countryXfreedom_lifechoice = pd.DataFrame({'Country name' : df_country, 'Freedom to make life choices': freedom_lifechoice_df})\n",
        "df_countryXfreedom_lifechoice = df_countryXfreedom_lifechoice.sort_values(by = 'Freedom to make life choices',ascending=False)\n",
        "\n",
        "df_countryXfreedom_lifechoice.head(5)"
      ],
      "execution_count": 12,
      "outputs": [
        {
          "output_type": "execute_result",
          "data": {
            "text/html": [
              "<div>\n",
              "<style scoped>\n",
              "    .dataframe tbody tr th:only-of-type {\n",
              "        vertical-align: middle;\n",
              "    }\n",
              "\n",
              "    .dataframe tbody tr th {\n",
              "        vertical-align: top;\n",
              "    }\n",
              "\n",
              "    .dataframe thead th {\n",
              "        text-align: right;\n",
              "    }\n",
              "</style>\n",
              "<table border=\"1\" class=\"dataframe\">\n",
              "  <thead>\n",
              "    <tr style=\"text-align: right;\">\n",
              "      <th></th>\n",
              "      <th>Country name</th>\n",
              "      <th>Freedom to make life choices</th>\n",
              "    </tr>\n",
              "  </thead>\n",
              "  <tbody>\n",
              "    <tr>\n",
              "      <th>41</th>\n",
              "      <td>Uzbekistan</td>\n",
              "      <td>0.970</td>\n",
              "    </tr>\n",
              "    <tr>\n",
              "      <th>5</th>\n",
              "      <td>Norway</td>\n",
              "      <td>0.960</td>\n",
              "    </tr>\n",
              "    <tr>\n",
              "      <th>113</th>\n",
              "      <td>Cambodia</td>\n",
              "      <td>0.959</td>\n",
              "    </tr>\n",
              "    <tr>\n",
              "      <th>3</th>\n",
              "      <td>Iceland</td>\n",
              "      <td>0.955</td>\n",
              "    </tr>\n",
              "    <tr>\n",
              "      <th>0</th>\n",
              "      <td>Finland</td>\n",
              "      <td>0.949</td>\n",
              "    </tr>\n",
              "  </tbody>\n",
              "</table>\n",
              "</div>"
            ],
            "text/plain": [
              "    Country name  Freedom to make life choices\n",
              "41    Uzbekistan                         0.970\n",
              "5         Norway                         0.960\n",
              "113     Cambodia                         0.959\n",
              "3        Iceland                         0.955\n",
              "0        Finland                         0.949"
            ]
          },
          "metadata": {},
          "execution_count": 12
        }
      ]
    },
    {
      "cell_type": "code",
      "metadata": {
        "colab": {
          "base_uri": "https://localhost:8080/",
          "height": 592
        },
        "id": "WMJS8-gWR5mJ",
        "outputId": "ca01580f-1fab-4e32-fef3-a4421cbef2bf"
      },
      "source": [
        "fig, ax = plt.subplots(figsize=(11,10))\n",
        "g = df_countryXfreedom_lifechoice[:7].plot.barh(x='Country name', y='Freedom to make life choices',color = 'green', alpha = 0.9,ax=ax)\n",
        "sns.set_theme('talk')"
      ],
      "execution_count": 13,
      "outputs": [
        {
          "output_type": "display_data",
          "data": {
            "image/png": "[encoded data removed]",
            "text/plain": [
              "<Figure size 792x720 with 1 Axes>"
            ]
          },
          "metadata": {
            "needs_background": "light"
          }
        }
      ]
    },
    {
      "cell_type": "markdown",
      "metadata": {
        "id": "69PhJpzJE8FS"
      },
      "source": [
        "\n",
        " In conclusion : The ladder score isn't depend on the Dystopia score\n"
      ]
    },
    {
      "cell_type": "markdown",
      "metadata": {
        "id": "E84bZhJqa3S2"
      },
      "source": [
        "# **2.Which are the best top 7 countries for having good Social support ?**"
      ]
    },
    {
      "cell_type": "code",
      "metadata": {
        "colab": {
          "base_uri": "https://localhost:8080/",
          "height": 266
        },
        "id": "lb1ql507bCC6",
        "outputId": "b82e8711-9a97-46b5-d0e4-801720c18a09"
      },
      "source": [
        "df_country = df['Country name']\n",
        "df_socialsupport = df['Social support']\n",
        "\n",
        "df_countryXsocialsupp = pd.DataFrame({'Country name' : df_country, 'Social support': df_socialsupport})\n",
        "df_countryXsocialsupp = df_countryXsocialsupp.sort_values(by = 'Social support',ascending=False)\n",
        "\n",
        "df_countryXsocialsupp.head(7)"
      ],
      "execution_count": 14,
      "outputs": [
        {
          "output_type": "execute_result",
          "data": {
            "text/html": [
              "<div>\n",
              "<style scoped>\n",
              "    .dataframe tbody tr th:only-of-type {\n",
              "        vertical-align: middle;\n",
              "    }\n",
              "\n",
              "    .dataframe tbody tr th {\n",
              "        vertical-align: top;\n",
              "    }\n",
              "\n",
              "    .dataframe thead th {\n",
              "        text-align: right;\n",
              "    }\n",
              "</style>\n",
              "<table border=\"1\" class=\"dataframe\">\n",
              "  <thead>\n",
              "    <tr style=\"text-align: right;\">\n",
              "      <th></th>\n",
              "      <th>Country name</th>\n",
              "      <th>Social support</th>\n",
              "    </tr>\n",
              "  </thead>\n",
              "  <tbody>\n",
              "    <tr>\n",
              "      <th>3</th>\n",
              "      <td>Iceland</td>\n",
              "      <td>0.983</td>\n",
              "    </tr>\n",
              "    <tr>\n",
              "      <th>96</th>\n",
              "      <td>Turkmenistan</td>\n",
              "      <td>0.983</td>\n",
              "    </tr>\n",
              "    <tr>\n",
              "      <th>0</th>\n",
              "      <td>Finland</td>\n",
              "      <td>0.954</td>\n",
              "    </tr>\n",
              "    <tr>\n",
              "      <th>5</th>\n",
              "      <td>Norway</td>\n",
              "      <td>0.954</td>\n",
              "    </tr>\n",
              "    <tr>\n",
              "      <th>1</th>\n",
              "      <td>Denmark</td>\n",
              "      <td>0.954</td>\n",
              "    </tr>\n",
              "    <tr>\n",
              "      <th>44</th>\n",
              "      <td>Kazakhstan</td>\n",
              "      <td>0.952</td>\n",
              "    </tr>\n",
              "    <tr>\n",
              "      <th>28</th>\n",
              "      <td>Slovenia</td>\n",
              "      <td>0.948</td>\n",
              "    </tr>\n",
              "  </tbody>\n",
              "</table>\n",
              "</div>"
            ],
            "text/plain": [
              "    Country name  Social support\n",
              "3        Iceland           0.983\n",
              "96  Turkmenistan           0.983\n",
              "0        Finland           0.954\n",
              "5         Norway           0.954\n",
              "1        Denmark           0.954\n",
              "44    Kazakhstan           0.952\n",
              "28      Slovenia           0.948"
            ]
          },
          "metadata": {},
          "execution_count": 14
        }
      ]
    },
    {
      "cell_type": "code",
      "metadata": {
        "colab": {
          "base_uri": "https://localhost:8080/",
          "height": 605
        },
        "id": "HZcn27xpbGr5",
        "outputId": "9cb7f690-eddd-480b-bc3c-7e578d86b6a0"
      },
      "source": [
        "fig, ax = plt.subplots(figsize=(11,10))\n",
        "g = df_countryXsocialsupp[:7].plot.barh(x='Country name', y='Social support',color = 'r', alpha = 0.9, ax=ax)\n",
        "sns.set_theme('talk')"
      ],
      "execution_count": 15,
      "outputs": [
        {
          "output_type": "display_data",
          "data": {
            "image/png": "[encoded data removed]",
            "text/plain": [
              "<Figure size 792x720 with 1 Axes>"
            ]
          },
          "metadata": {}
        }
      ]
    },
    {
      "cell_type": "code",
      "metadata": {
        "id": "FAs54lIeKJGL"
      },
      "source": [
        ""
      ],
      "execution_count": 15,
      "outputs": []
    },
    {
      "cell_type": "markdown",
      "metadata": {
        "id": "9epSFZaTz5cU"
      },
      "source": [
        "# **3.What are the most influential features of the dataset to calculate the ladder score ?**"
      ]
    },
    {
      "cell_type": "markdown",
      "metadata": {
        "id": "JesaZs622BAc"
      },
      "source": [
        "Do/Make ML section "
      ]
    },
    {
      "cell_type": "code",
      "metadata": {
        "colab": {
          "base_uri": "https://localhost:8080/",
          "height": 394
        },
        "id": "XJ59ONJPz_tj",
        "outputId": "b2ecfed2-af6c-4085-f8d0-349a284cb8ac"
      },
      "source": [
        "df.head(5)"
      ],
      "execution_count": 16,
      "outputs": [
        {
          "output_type": "execute_result",
          "data": {
            "text/html": [
              "<div>\n",
              "<style scoped>\n",
              "    .dataframe tbody tr th:only-of-type {\n",
              "        vertical-align: middle;\n",
              "    }\n",
              "\n",
              "    .dataframe tbody tr th {\n",
              "        vertical-align: top;\n",
              "    }\n",
              "\n",
              "    .dataframe thead th {\n",
              "        text-align: right;\n",
              "    }\n",
              "</style>\n",
              "<table border=\"1\" class=\"dataframe\">\n",
              "  <thead>\n",
              "    <tr style=\"text-align: right;\">\n",
              "      <th></th>\n",
              "      <th>Country name</th>\n",
              "      <th>Regional indicator</th>\n",
              "      <th>Ladder score</th>\n",
              "      <th>Standard error of ladder score</th>\n",
              "      <th>upperwhisker</th>\n",
              "      <th>lowerwhisker</th>\n",
              "      <th>Logged GDP per capita</th>\n",
              "      <th>Social support</th>\n",
              "      <th>Healthy life expectancy</th>\n",
              "      <th>Freedom to make life choices</th>\n",
              "      <th>Generosity</th>\n",
              "      <th>Perceptions of corruption</th>\n",
              "      <th>Ladder score in Dystopia</th>\n",
              "      <th>Explained by: Log GDP per capita</th>\n",
              "      <th>Explained by: Social support</th>\n",
              "      <th>Explained by: Healthy life expectancy</th>\n",
              "      <th>Explained by: Freedom to make life choices</th>\n",
              "      <th>Explained by: Generosity</th>\n",
              "      <th>Explained by: Perceptions of corruption</th>\n",
              "      <th>Dystopia + residual</th>\n",
              "      <th>ID</th>\n",
              "    </tr>\n",
              "  </thead>\n",
              "  <tbody>\n",
              "    <tr>\n",
              "      <th>0</th>\n",
              "      <td>Finland</td>\n",
              "      <td>Western Europe</td>\n",
              "      <td>7.842</td>\n",
              "      <td>0.032</td>\n",
              "      <td>7.904</td>\n",
              "      <td>7.780</td>\n",
              "      <td>10.775</td>\n",
              "      <td>0.954</td>\n",
              "      <td>72.0</td>\n",
              "      <td>0.949</td>\n",
              "      <td>-0.098</td>\n",
              "      <td>0.186</td>\n",
              "      <td>2.43</td>\n",
              "      <td>1.446</td>\n",
              "      <td>1.106</td>\n",
              "      <td>0.741</td>\n",
              "      <td>0.691</td>\n",
              "      <td>0.124</td>\n",
              "      <td>0.481</td>\n",
              "      <td>3.253</td>\n",
              "      <td>0</td>\n",
              "    </tr>\n",
              "    <tr>\n",
              "      <th>1</th>\n",
              "      <td>Denmark</td>\n",
              "      <td>Western Europe</td>\n",
              "      <td>7.620</td>\n",
              "      <td>0.035</td>\n",
              "      <td>7.687</td>\n",
              "      <td>7.552</td>\n",
              "      <td>10.933</td>\n",
              "      <td>0.954</td>\n",
              "      <td>72.7</td>\n",
              "      <td>0.946</td>\n",
              "      <td>0.030</td>\n",
              "      <td>0.179</td>\n",
              "      <td>2.43</td>\n",
              "      <td>1.502</td>\n",
              "      <td>1.108</td>\n",
              "      <td>0.763</td>\n",
              "      <td>0.686</td>\n",
              "      <td>0.208</td>\n",
              "      <td>0.485</td>\n",
              "      <td>2.868</td>\n",
              "      <td>1</td>\n",
              "    </tr>\n",
              "    <tr>\n",
              "      <th>2</th>\n",
              "      <td>Switzerland</td>\n",
              "      <td>Western Europe</td>\n",
              "      <td>7.571</td>\n",
              "      <td>0.036</td>\n",
              "      <td>7.643</td>\n",
              "      <td>7.500</td>\n",
              "      <td>11.117</td>\n",
              "      <td>0.942</td>\n",
              "      <td>74.4</td>\n",
              "      <td>0.919</td>\n",
              "      <td>0.025</td>\n",
              "      <td>0.292</td>\n",
              "      <td>2.43</td>\n",
              "      <td>1.566</td>\n",
              "      <td>1.079</td>\n",
              "      <td>0.816</td>\n",
              "      <td>0.653</td>\n",
              "      <td>0.204</td>\n",
              "      <td>0.413</td>\n",
              "      <td>2.839</td>\n",
              "      <td>2</td>\n",
              "    </tr>\n",
              "    <tr>\n",
              "      <th>3</th>\n",
              "      <td>Iceland</td>\n",
              "      <td>Western Europe</td>\n",
              "      <td>7.554</td>\n",
              "      <td>0.059</td>\n",
              "      <td>7.670</td>\n",
              "      <td>7.438</td>\n",
              "      <td>10.878</td>\n",
              "      <td>0.983</td>\n",
              "      <td>73.0</td>\n",
              "      <td>0.955</td>\n",
              "      <td>0.160</td>\n",
              "      <td>0.673</td>\n",
              "      <td>2.43</td>\n",
              "      <td>1.482</td>\n",
              "      <td>1.172</td>\n",
              "      <td>0.772</td>\n",
              "      <td>0.698</td>\n",
              "      <td>0.293</td>\n",
              "      <td>0.170</td>\n",
              "      <td>2.967</td>\n",
              "      <td>3</td>\n",
              "    </tr>\n",
              "    <tr>\n",
              "      <th>4</th>\n",
              "      <td>Netherlands</td>\n",
              "      <td>Western Europe</td>\n",
              "      <td>7.464</td>\n",
              "      <td>0.027</td>\n",
              "      <td>7.518</td>\n",
              "      <td>7.410</td>\n",
              "      <td>10.932</td>\n",
              "      <td>0.942</td>\n",
              "      <td>72.4</td>\n",
              "      <td>0.913</td>\n",
              "      <td>0.175</td>\n",
              "      <td>0.338</td>\n",
              "      <td>2.43</td>\n",
              "      <td>1.501</td>\n",
              "      <td>1.079</td>\n",
              "      <td>0.753</td>\n",
              "      <td>0.647</td>\n",
              "      <td>0.302</td>\n",
              "      <td>0.384</td>\n",
              "      <td>2.798</td>\n",
              "      <td>4</td>\n",
              "    </tr>\n",
              "  </tbody>\n",
              "</table>\n",
              "</div>"
            ],
            "text/plain": [
              "  Country name Regional indicator  ...  Dystopia + residual  ID\n",
              "0      Finland     Western Europe  ...                3.253   0\n",
              "1      Denmark     Western Europe  ...                2.868   1\n",
              "2  Switzerland     Western Europe  ...                2.839   2\n",
              "3      Iceland     Western Europe  ...                2.967   3\n",
              "4  Netherlands     Western Europe  ...                2.798   4\n",
              "\n",
              "[5 rows x 21 columns]"
            ]
          },
          "metadata": {},
          "execution_count": 16
        }
      ]
    },
    {
      "cell_type": "code",
      "metadata": {
        "id": "spBJpozA2YCM"
      },
      "source": [
        "df_new = df\n",
        "df_new = df_new.drop(labels='Country name',axis=1)\n",
        "df_new = df_new.drop(labels='Regional indicator',axis=1)\n",
        "\n",
        "X = df_new.drop(df[['Ladder score']],axis=1)\n",
        "y = df_new['Ladder score']"
      ],
      "execution_count": 17,
      "outputs": []
    },
    {
      "cell_type": "code",
      "metadata": {
        "colab": {
          "base_uri": "https://localhost:8080/",
          "height": 309
        },
        "id": "ltt3tkzI5xsP",
        "outputId": "1f1ead5c-6ec5-4033-fce7-3204a946139b"
      },
      "source": [
        "X.head(5)"
      ],
      "execution_count": 18,
      "outputs": [
        {
          "output_type": "execute_result",
          "data": {
            "text/html": [
              "<div>\n",
              "<style scoped>\n",
              "    .dataframe tbody tr th:only-of-type {\n",
              "        vertical-align: middle;\n",
              "    }\n",
              "\n",
              "    .dataframe tbody tr th {\n",
              "        vertical-align: top;\n",
              "    }\n",
              "\n",
              "    .dataframe thead th {\n",
              "        text-align: right;\n",
              "    }\n",
              "</style>\n",
              "<table border=\"1\" class=\"dataframe\">\n",
              "  <thead>\n",
              "    <tr style=\"text-align: right;\">\n",
              "      <th></th>\n",
              "      <th>Standard error of ladder score</th>\n",
              "      <th>upperwhisker</th>\n",
              "      <th>lowerwhisker</th>\n",
              "      <th>Logged GDP per capita</th>\n",
              "      <th>Social support</th>\n",
              "      <th>Healthy life expectancy</th>\n",
              "      <th>Freedom to make life choices</th>\n",
              "      <th>Generosity</th>\n",
              "      <th>Perceptions of corruption</th>\n",
              "      <th>Ladder score in Dystopia</th>\n",
              "      <th>Explained by: Log GDP per capita</th>\n",
              "      <th>Explained by: Social support</th>\n",
              "      <th>Explained by: Healthy life expectancy</th>\n",
              "      <th>Explained by: Freedom to make life choices</th>\n",
              "      <th>Explained by: Generosity</th>\n",
              "      <th>Explained by: Perceptions of corruption</th>\n",
              "      <th>Dystopia + residual</th>\n",
              "      <th>ID</th>\n",
              "    </tr>\n",
              "  </thead>\n",
              "  <tbody>\n",
              "    <tr>\n",
              "      <th>0</th>\n",
              "      <td>0.032</td>\n",
              "      <td>7.904</td>\n",
              "      <td>7.780</td>\n",
              "      <td>10.775</td>\n",
              "      <td>0.954</td>\n",
              "      <td>72.0</td>\n",
              "      <td>0.949</td>\n",
              "      <td>-0.098</td>\n",
              "      <td>0.186</td>\n",
              "      <td>2.43</td>\n",
              "      <td>1.446</td>\n",
              "      <td>1.106</td>\n",
              "      <td>0.741</td>\n",
              "      <td>0.691</td>\n",
              "      <td>0.124</td>\n",
              "      <td>0.481</td>\n",
              "      <td>3.253</td>\n",
              "      <td>0</td>\n",
              "    </tr>\n",
              "    <tr>\n",
              "      <th>1</th>\n",
              "      <td>0.035</td>\n",
              "      <td>7.687</td>\n",
              "      <td>7.552</td>\n",
              "      <td>10.933</td>\n",
              "      <td>0.954</td>\n",
              "      <td>72.7</td>\n",
              "      <td>0.946</td>\n",
              "      <td>0.030</td>\n",
              "      <td>0.179</td>\n",
              "      <td>2.43</td>\n",
              "      <td>1.502</td>\n",
              "      <td>1.108</td>\n",
              "      <td>0.763</td>\n",
              "      <td>0.686</td>\n",
              "      <td>0.208</td>\n",
              "      <td>0.485</td>\n",
              "      <td>2.868</td>\n",
              "      <td>1</td>\n",
              "    </tr>\n",
              "    <tr>\n",
              "      <th>2</th>\n",
              "      <td>0.036</td>\n",
              "      <td>7.643</td>\n",
              "      <td>7.500</td>\n",
              "      <td>11.117</td>\n",
              "      <td>0.942</td>\n",
              "      <td>74.4</td>\n",
              "      <td>0.919</td>\n",
              "      <td>0.025</td>\n",
              "      <td>0.292</td>\n",
              "      <td>2.43</td>\n",
              "      <td>1.566</td>\n",
              "      <td>1.079</td>\n",
              "      <td>0.816</td>\n",
              "      <td>0.653</td>\n",
              "      <td>0.204</td>\n",
              "      <td>0.413</td>\n",
              "      <td>2.839</td>\n",
              "      <td>2</td>\n",
              "    </tr>\n",
              "    <tr>\n",
              "      <th>3</th>\n",
              "      <td>0.059</td>\n",
              "      <td>7.670</td>\n",
              "      <td>7.438</td>\n",
              "      <td>10.878</td>\n",
              "      <td>0.983</td>\n",
              "      <td>73.0</td>\n",
              "      <td>0.955</td>\n",
              "      <td>0.160</td>\n",
              "      <td>0.673</td>\n",
              "      <td>2.43</td>\n",
              "      <td>1.482</td>\n",
              "      <td>1.172</td>\n",
              "      <td>0.772</td>\n",
              "      <td>0.698</td>\n",
              "      <td>0.293</td>\n",
              "      <td>0.170</td>\n",
              "      <td>2.967</td>\n",
              "      <td>3</td>\n",
              "    </tr>\n",
              "    <tr>\n",
              "      <th>4</th>\n",
              "      <td>0.027</td>\n",
              "      <td>7.518</td>\n",
              "      <td>7.410</td>\n",
              "      <td>10.932</td>\n",
              "      <td>0.942</td>\n",
              "      <td>72.4</td>\n",
              "      <td>0.913</td>\n",
              "      <td>0.175</td>\n",
              "      <td>0.338</td>\n",
              "      <td>2.43</td>\n",
              "      <td>1.501</td>\n",
              "      <td>1.079</td>\n",
              "      <td>0.753</td>\n",
              "      <td>0.647</td>\n",
              "      <td>0.302</td>\n",
              "      <td>0.384</td>\n",
              "      <td>2.798</td>\n",
              "      <td>4</td>\n",
              "    </tr>\n",
              "  </tbody>\n",
              "</table>\n",
              "</div>"
            ],
            "text/plain": [
              "   Standard error of ladder score  upperwhisker  ...  Dystopia + residual  ID\n",
              "0                           0.032         7.904  ...                3.253   0\n",
              "1                           0.035         7.687  ...                2.868   1\n",
              "2                           0.036         7.643  ...                2.839   2\n",
              "3                           0.059         7.670  ...                2.967   3\n",
              "4                           0.027         7.518  ...                2.798   4\n",
              "\n",
              "[5 rows x 18 columns]"
            ]
          },
          "metadata": {},
          "execution_count": 18
        }
      ]
    },
    {
      "cell_type": "code",
      "metadata": {
        "id": "MzfDLBcF5_Th"
      },
      "source": [
        "X_train, X_test, y_train, y_test = train_test_split(X , y , test_size = 0.75,random_state = 42)"
      ],
      "execution_count": 19,
      "outputs": []
    },
    {
      "cell_type": "code",
      "metadata": {
        "colab": {
          "base_uri": "https://localhost:8080/",
          "height": 309
        },
        "id": "DLnF9BFO6Zoe",
        "outputId": "a6933334-6315-45dc-c54e-793aba30992b"
      },
      "source": [
        "X_train.head(5)"
      ],
      "execution_count": 20,
      "outputs": [
        {
          "output_type": "execute_result",
          "data": {
            "text/html": [
              "<div>\n",
              "<style scoped>\n",
              "    .dataframe tbody tr th:only-of-type {\n",
              "        vertical-align: middle;\n",
              "    }\n",
              "\n",
              "    .dataframe tbody tr th {\n",
              "        vertical-align: top;\n",
              "    }\n",
              "\n",
              "    .dataframe thead th {\n",
              "        text-align: right;\n",
              "    }\n",
              "</style>\n",
              "<table border=\"1\" class=\"dataframe\">\n",
              "  <thead>\n",
              "    <tr style=\"text-align: right;\">\n",
              "      <th></th>\n",
              "      <th>Standard error of ladder score</th>\n",
              "      <th>upperwhisker</th>\n",
              "      <th>lowerwhisker</th>\n",
              "      <th>Logged GDP per capita</th>\n",
              "      <th>Social support</th>\n",
              "      <th>Healthy life expectancy</th>\n",
              "      <th>Freedom to make life choices</th>\n",
              "      <th>Generosity</th>\n",
              "      <th>Perceptions of corruption</th>\n",
              "      <th>Ladder score in Dystopia</th>\n",
              "      <th>Explained by: Log GDP per capita</th>\n",
              "      <th>Explained by: Social support</th>\n",
              "      <th>Explained by: Healthy life expectancy</th>\n",
              "      <th>Explained by: Freedom to make life choices</th>\n",
              "      <th>Explained by: Generosity</th>\n",
              "      <th>Explained by: Perceptions of corruption</th>\n",
              "      <th>Dystopia + residual</th>\n",
              "      <th>ID</th>\n",
              "    </tr>\n",
              "  </thead>\n",
              "  <tbody>\n",
              "    <tr>\n",
              "      <th>114</th>\n",
              "      <td>0.103</td>\n",
              "      <td>4.997</td>\n",
              "      <td>4.592</td>\n",
              "      <td>7.158</td>\n",
              "      <td>0.744</td>\n",
              "      <td>54.706</td>\n",
              "      <td>0.882</td>\n",
              "      <td>0.061</td>\n",
              "      <td>0.684</td>\n",
              "      <td>2.43</td>\n",
              "      <td>0.183</td>\n",
              "      <td>0.634</td>\n",
              "      <td>0.196</td>\n",
              "      <td>0.608</td>\n",
              "      <td>0.228</td>\n",
              "      <td>0.163</td>\n",
              "      <td>2.783</td>\n",
              "      <td>114</td>\n",
              "    </tr>\n",
              "    <tr>\n",
              "      <th>46</th>\n",
              "      <td>0.066</td>\n",
              "      <td>6.235</td>\n",
              "      <td>5.977</td>\n",
              "      <td>10.817</td>\n",
              "      <td>0.843</td>\n",
              "      <td>66.900</td>\n",
              "      <td>0.867</td>\n",
              "      <td>-0.104</td>\n",
              "      <td>0.736</td>\n",
              "      <td>2.43</td>\n",
              "      <td>1.461</td>\n",
              "      <td>0.857</td>\n",
              "      <td>0.580</td>\n",
              "      <td>0.591</td>\n",
              "      <td>0.120</td>\n",
              "      <td>0.130</td>\n",
              "      <td>2.368</td>\n",
              "      <td>46</td>\n",
              "    </tr>\n",
              "    <tr>\n",
              "      <th>115</th>\n",
              "      <td>0.052</td>\n",
              "      <td>4.861</td>\n",
              "      <td>4.658</td>\n",
              "      <td>8.533</td>\n",
              "      <td>0.740</td>\n",
              "      <td>50.102</td>\n",
              "      <td>0.737</td>\n",
              "      <td>0.037</td>\n",
              "      <td>0.878</td>\n",
              "      <td>2.43</td>\n",
              "      <td>0.663</td>\n",
              "      <td>0.625</td>\n",
              "      <td>0.051</td>\n",
              "      <td>0.433</td>\n",
              "      <td>0.212</td>\n",
              "      <td>0.039</td>\n",
              "      <td>2.736</td>\n",
              "      <td>115</td>\n",
              "    </tr>\n",
              "    <tr>\n",
              "      <th>61</th>\n",
              "      <td>0.042</td>\n",
              "      <td>5.928</td>\n",
              "      <td>5.763</td>\n",
              "      <td>10.651</td>\n",
              "      <td>0.799</td>\n",
              "      <td>73.900</td>\n",
              "      <td>0.672</td>\n",
              "      <td>-0.083</td>\n",
              "      <td>0.727</td>\n",
              "      <td>2.43</td>\n",
              "      <td>1.403</td>\n",
              "      <td>0.758</td>\n",
              "      <td>0.801</td>\n",
              "      <td>0.353</td>\n",
              "      <td>0.134</td>\n",
              "      <td>0.135</td>\n",
              "      <td>2.262</td>\n",
              "      <td>61</td>\n",
              "    </tr>\n",
              "    <tr>\n",
              "      <th>146</th>\n",
              "      <td>0.068</td>\n",
              "      <td>3.548</td>\n",
              "      <td>3.282</td>\n",
              "      <td>7.676</td>\n",
              "      <td>0.552</td>\n",
              "      <td>61.400</td>\n",
              "      <td>0.897</td>\n",
              "      <td>0.061</td>\n",
              "      <td>0.167</td>\n",
              "      <td>2.43</td>\n",
              "      <td>0.364</td>\n",
              "      <td>0.202</td>\n",
              "      <td>0.407</td>\n",
              "      <td>0.627</td>\n",
              "      <td>0.227</td>\n",
              "      <td>0.493</td>\n",
              "      <td>1.095</td>\n",
              "      <td>146</td>\n",
              "    </tr>\n",
              "  </tbody>\n",
              "</table>\n",
              "</div>"
            ],
            "text/plain": [
              "     Standard error of ladder score  upperwhisker  ...  Dystopia + residual   ID\n",
              "114                           0.103         4.997  ...                2.783  114\n",
              "46                            0.066         6.235  ...                2.368   46\n",
              "115                           0.052         4.861  ...                2.736  115\n",
              "61                            0.042         5.928  ...                2.262   61\n",
              "146                           0.068         3.548  ...                1.095  146\n",
              "\n",
              "[5 rows x 18 columns]"
            ]
          },
          "metadata": {},
          "execution_count": 20
        }
      ]
    },
    {
      "cell_type": "code",
      "metadata": {
        "colab": {
          "base_uri": "https://localhost:8080/"
        },
        "id": "36oYh4nk6bgK",
        "outputId": "99a6d110-91dd-4b9d-fbc7-5563796ab4c9"
      },
      "source": [
        "#Applying the linear regression, fitting the model, making predictions with the test set and scoring the success of the model\n",
        "lm_model = LinearRegression(normalize=True)\n",
        "lm_model.fit(X_train,y_train)\n",
        "y_test_preds = lm_model.predict(X_test)\n",
        "test_score = r2_score(y_test, y_test_preds)\n",
        "print(test_score)"
      ],
      "execution_count": 21,
      "outputs": [
        {
          "output_type": "stream",
          "name": "stdout",
          "text": [
            "0.999999775538826\n"
          ]
        }
      ]
    },
    {
      "cell_type": "code",
      "metadata": {
        "id": "Q9XIrO7NVpeb"
      },
      "source": [
        "#Code from Udacity notebook[Coefficient of model calculation].\n",
        "def coef_weights(coefficients, X_train):\n",
        "    '''\n",
        "    INPUT:\n",
        "    coefficients - the coefficients of the linear model \n",
        "    X_train - the training data, so the column names can be used\n",
        "    OUTPUT:\n",
        "    coefs_df - a dataframe holding the coefficient, estimate, and abs(estimate)\n",
        "    \n",
        "    Provides a dataframe that can be used to understand the most influential coefficients\n",
        "    in a linear model by providing the coefficient estimates along with the name of the \n",
        "    variable attached to the coefficient.\n",
        "    '''\n",
        "    coefs_df = pd.DataFrame()\n",
        "    coefs_df['est_int'] = X_train.columns\n",
        "    coefs_df['coefs'] = lm_model.coef_\n",
        "    coefs_df['abs_coefs'] = np.abs(lm_model.coef_)\n",
        "    coefs_df = coefs_df.sort_values('abs_coefs', ascending=False)\n",
        "    return coefs_df\n",
        "\n",
        "#Use the function\n",
        "coef_df = coef_weights(lm_model.coef_, X_train)"
      ],
      "execution_count": 22,
      "outputs": []
    },
    {
      "cell_type": "code",
      "metadata": {
        "colab": {
          "base_uri": "https://localhost:8080/",
          "height": 607
        },
        "id": "FnuqUKb2zKZM",
        "outputId": "d82966e6-e17a-4cd6-d1b5-255eb5c75491"
      },
      "source": [
        "coef_df"
      ],
      "execution_count": 23,
      "outputs": [
        {
          "output_type": "execute_result",
          "data": {
            "text/html": [
              "<div>\n",
              "<style scoped>\n",
              "    .dataframe tbody tr th:only-of-type {\n",
              "        vertical-align: middle;\n",
              "    }\n",
              "\n",
              "    .dataframe tbody tr th {\n",
              "        vertical-align: top;\n",
              "    }\n",
              "\n",
              "    .dataframe thead th {\n",
              "        text-align: right;\n",
              "    }\n",
              "</style>\n",
              "<table border=\"1\" class=\"dataframe\">\n",
              "  <thead>\n",
              "    <tr style=\"text-align: right;\">\n",
              "      <th></th>\n",
              "      <th>est_int</th>\n",
              "      <th>coefs</th>\n",
              "      <th>abs_coefs</th>\n",
              "    </tr>\n",
              "  </thead>\n",
              "  <tbody>\n",
              "    <tr>\n",
              "      <th>9</th>\n",
              "      <td>Ladder score in Dystopia</td>\n",
              "      <td>-2.009956</td>\n",
              "      <td>2.009956</td>\n",
              "    </tr>\n",
              "    <tr>\n",
              "      <th>10</th>\n",
              "      <td>Explained by: Log GDP per capita</td>\n",
              "      <td>0.459825</td>\n",
              "      <td>0.459825</td>\n",
              "    </tr>\n",
              "    <tr>\n",
              "      <th>2</th>\n",
              "      <td>lowerwhisker</td>\n",
              "      <td>0.368533</td>\n",
              "      <td>0.368533</td>\n",
              "    </tr>\n",
              "    <tr>\n",
              "      <th>7</th>\n",
              "      <td>Generosity</td>\n",
              "      <td>0.340838</td>\n",
              "      <td>0.340838</td>\n",
              "    </tr>\n",
              "    <tr>\n",
              "      <th>4</th>\n",
              "      <td>Social support</td>\n",
              "      <td>0.335312</td>\n",
              "      <td>0.335312</td>\n",
              "    </tr>\n",
              "    <tr>\n",
              "      <th>8</th>\n",
              "      <td>Perceptions of corruption</td>\n",
              "      <td>-0.328817</td>\n",
              "      <td>0.328817</td>\n",
              "    </tr>\n",
              "    <tr>\n",
              "      <th>16</th>\n",
              "      <td>Dystopia + residual</td>\n",
              "      <td>0.322673</td>\n",
              "      <td>0.322673</td>\n",
              "    </tr>\n",
              "    <tr>\n",
              "      <th>1</th>\n",
              "      <td>upperwhisker</td>\n",
              "      <td>0.308258</td>\n",
              "      <td>0.308258</td>\n",
              "    </tr>\n",
              "    <tr>\n",
              "      <th>14</th>\n",
              "      <td>Explained by: Generosity</td>\n",
              "      <td>-0.198947</td>\n",
              "      <td>0.198947</td>\n",
              "    </tr>\n",
              "    <tr>\n",
              "      <th>15</th>\n",
              "      <td>Explained by: Perceptions of corruption</td>\n",
              "      <td>-0.192176</td>\n",
              "      <td>0.192176</td>\n",
              "    </tr>\n",
              "    <tr>\n",
              "      <th>6</th>\n",
              "      <td>Freedom to make life choices</td>\n",
              "      <td>0.191750</td>\n",
              "      <td>0.191750</td>\n",
              "    </tr>\n",
              "    <tr>\n",
              "      <th>11</th>\n",
              "      <td>Explained by: Social support</td>\n",
              "      <td>0.174735</td>\n",
              "      <td>0.174735</td>\n",
              "    </tr>\n",
              "    <tr>\n",
              "      <th>13</th>\n",
              "      <td>Explained by: Freedom to make life choices</td>\n",
              "      <td>0.163844</td>\n",
              "      <td>0.163844</td>\n",
              "    </tr>\n",
              "    <tr>\n",
              "      <th>0</th>\n",
              "      <td>Standard error of ladder score</td>\n",
              "      <td>0.116616</td>\n",
              "      <td>0.116616</td>\n",
              "    </tr>\n",
              "    <tr>\n",
              "      <th>12</th>\n",
              "      <td>Explained by: Healthy life expectancy</td>\n",
              "      <td>0.103449</td>\n",
              "      <td>0.103449</td>\n",
              "    </tr>\n",
              "    <tr>\n",
              "      <th>3</th>\n",
              "      <td>Logged GDP per capita</td>\n",
              "      <td>-0.048167</td>\n",
              "      <td>0.048167</td>\n",
              "    </tr>\n",
              "    <tr>\n",
              "      <th>5</th>\n",
              "      <td>Healthy life expectancy</td>\n",
              "      <td>0.006914</td>\n",
              "      <td>0.006914</td>\n",
              "    </tr>\n",
              "    <tr>\n",
              "      <th>17</th>\n",
              "      <td>ID</td>\n",
              "      <td>-0.000018</td>\n",
              "      <td>0.000018</td>\n",
              "    </tr>\n",
              "  </tbody>\n",
              "</table>\n",
              "</div>"
            ],
            "text/plain": [
              "                                       est_int     coefs  abs_coefs\n",
              "9                     Ladder score in Dystopia -2.009956   2.009956\n",
              "10            Explained by: Log GDP per capita  0.459825   0.459825\n",
              "2                                 lowerwhisker  0.368533   0.368533\n",
              "7                                   Generosity  0.340838   0.340838\n",
              "4                               Social support  0.335312   0.335312\n",
              "8                    Perceptions of corruption -0.328817   0.328817\n",
              "16                         Dystopia + residual  0.322673   0.322673\n",
              "1                                 upperwhisker  0.308258   0.308258\n",
              "14                    Explained by: Generosity -0.198947   0.198947\n",
              "15     Explained by: Perceptions of corruption -0.192176   0.192176\n",
              "6                 Freedom to make life choices  0.191750   0.191750\n",
              "11                Explained by: Social support  0.174735   0.174735\n",
              "13  Explained by: Freedom to make life choices  0.163844   0.163844\n",
              "0               Standard error of ladder score  0.116616   0.116616\n",
              "12       Explained by: Healthy life expectancy  0.103449   0.103449\n",
              "3                        Logged GDP per capita -0.048167   0.048167\n",
              "5                      Healthy life expectancy  0.006914   0.006914\n",
              "17                                          ID -0.000018   0.000018"
            ]
          },
          "metadata": {},
          "execution_count": 23
        }
      ]
    },
    {
      "cell_type": "code",
      "metadata": {
        "id": "5SQdGtJkzRrT"
      },
      "source": [
        ""
      ],
      "execution_count": 23,
      "outputs": []
    }
  ]
}